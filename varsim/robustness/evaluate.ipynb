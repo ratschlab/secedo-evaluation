{
 "cells": [
  {
   "cell_type": "code",
   "execution_count": 17,
   "metadata": {
    "collapsed": true
   },
   "outputs": [
    {
     "name": "stdout",
     "output_type": "stream",
     "text": [
      "GT clustering written to /Users/dd/work/secedo-experiments/varsim/robustness/ground_truth/clustering\n"
     ]
    }
   ],
   "source": [
    "import collections\n",
    "import os\n",
    "from pathlib import Path\n",
    "\n",
    "clusters = [2000, 500, 500, 500, 500, 1000, 500, 750, 1000]\n",
    "\n",
    "current_dir = os.getcwd()\n",
    "with open(f'{current_dir}/ground_truth/clustering', 'w') as f:\n",
    "    cluster_idx = 0\n",
    "    for cluster in clusters:\n",
    "        for i in range(cluster):\n",
    "            f.write(f'{cluster_idx},')\n",
    "        cluster_idx+=1\n",
    "print(f'GT clustering written to {current_dir}/ground_truth/clustering')"
   ]
  },
  {
   "cell_type": "code",
   "execution_count": 52,
   "outputs": [
    {
     "name": "stdout",
     "output_type": "stream",
     "text": [
      "['h0.5_theta0.05_epsilon0.05/clustering', 'h0.3_theta0.005_epsilon0.01/clustering', 'h0.5_theta0.01_epsilon0.01/clustering', 'h0.8_theta0.05_epsilon0.01/clustering', 'h0.8_theta0.01_epsilon0.05/clustering', 'h0.5_theta0.005_epsilon0.01/clustering', 'h0.3_theta0.05_epsilon0.05/clustering', 'h0.3_theta0.01_epsilon0.01/clustering', 'h0.8_theta0.005_epsilon0.01/clustering', 'h0.5_theta0.05_epsilon0.01/clustering', 'h0.5_theta0.01_epsilon0.05/clustering', 'h0.3_theta0.005_epsilon0.05/clustering', 'h0.8_theta0.05_epsilon0.05/clustering', 'h0.8_theta0.01_epsilon0.01/clustering', 'h0.5_theta0.005_epsilon0.05/clustering', 'h0.3_theta0.05_epsilon0.01/clustering', 'h0.3_theta0.01_epsilon0.05/clustering', 'h0.8_theta0.005_epsilon0.05/clustering']\n",
      "$h=0.3, \\theta=0.005, \\epsilon=0.01$ & 1.00 0.50 & 0.97 0.98 & 1.00 1.00 & 1.00 1.00 & 1.00 1.00 & 0.96 0.96 & 1.00 1.00 & 0.99 0.98 & 0.96 0.96 \\\\\n",
      "$h=0.3, \\theta=0.005, \\epsilon=0.05$ & 1.00 0.97 & 0.87 1.00 & 1.00 1.00 & 1.00 0.97 & 1.00 0.98 & 0.94 0.96 & 1.00 0.97 & 1.00 0.99 & 0.96 0.98 \\\\\n",
      "$h=0.3, \\theta=0.01, \\epsilon=0.01$ & 1.00 1.00 & 0.98 0.99 & 1.00 1.00 & 1.00 1.00 & 1.00 1.00 & 0.98 0.98 & 1.00 0.99 & 0.99 0.99 & 0.98 0.98 \\\\\n",
      "$h=0.3, \\theta=0.01, \\epsilon=0.05$ & 1.00 1.00 & 0.99 0.99 & 1.00 1.00 & 1.00 0.99 & 1.00 1.00 & 0.98 0.98 & 1.00 1.00 & 0.99 0.99 & 0.98 0.98 \\\\\n",
      "$h=0.3, \\theta=0.05, \\epsilon=0.01$ & 1.00 1.00 & 0.99 1.00 & 1.00 1.00 & 1.00 1.00 & 1.00 1.00 & 0.99 0.99 & 1.00 1.00 & 1.00 0.99 & 0.99 0.98 \\\\\n",
      "$h=0.3, \\theta=0.05, \\epsilon=0.05$ & 1.00 1.00 & 0.99 1.00 & 1.00 1.00 & 1.00 1.00 & 1.00 1.00 & 0.99 0.99 & 1.00 1.00 & 1.00 0.99 & 0.99 0.99 \\\\\n",
      "$h=0.5, \\theta=0.005, \\epsilon=0.01$ & 1.00 0.99 & 0.94 0.99 & 1.00 1.00 & 0.98 1.00 & 1.00 1.00 & 0.99 0.99 & 1.00 1.00 & 1.00 0.99 & 0.99 0.99 \\\\\n",
      "$h=0.5, \\theta=0.01, \\epsilon=0.01$ & 1.00 1.00 & 0.99 1.00 & 1.00 1.00 & 1.00 1.00 & 1.00 1.00 & 0.99 0.99 & 1.00 1.00 & 1.00 1.00 & 0.99 0.98 \\\\\n",
      "$h=0.5, \\theta=0.01, \\epsilon=0.05$ & 1.00 1.00 & 1.00 0.99 & 1.00 1.00 & 1.00 1.00 & 1.00 1.00 & 0.99 0.99 & 1.00 1.00 & 1.00 1.00 & 0.99 0.99 \\\\\n",
      "$h=0.5, \\theta=0.05, \\epsilon=0.01$ & 1.00 1.00 & 1.00 1.00 & 1.00 1.00 & 1.00 1.00 & 1.00 1.00 & 0.99 0.99 & 1.00 1.00 & 1.00 1.00 & 0.99 0.99 \\\\\n",
      "$h=0.5, \\theta=0.05, \\epsilon=0.05$ & 1.00 1.00 & 1.00 1.00 & 1.00 1.00 & 1.00 1.00 & 1.00 1.00 & 0.99 0.99 & 1.00 1.00 & 1.00 1.00 & 0.99 0.99 \\\\\n",
      "$h=0.8, \\theta=0.005, \\epsilon=0.01$ & 1.00 1.00 & 0.99 0.99 & 1.00 1.00 & 0.99 1.00 & 1.00 1.00 & 0.98 0.98 & 1.00 0.99 & 0.99 0.99 & 0.98 0.98 \\\\\n",
      "$h=0.8, \\theta=0.005, \\epsilon=0.05$ & 1.00 1.00 & 0.99 0.99 & 1.00 1.00 & 0.99 1.00 & 1.00 1.00 & 0.98 0.98 & 1.00 0.99 & 0.99 0.99 & 0.98 0.98 \\\\\n",
      "$h=0.8, \\theta=0.01, \\epsilon=0.01$ & 1.00 1.00 & 0.99 0.99 & 1.00 1.00 & 0.99 1.00 & 1.00 1.00 & 0.98 0.98 & 1.00 0.99 & 0.99 0.99 & 0.98 0.98 \\\\\n",
      "$h=0.8, \\theta=0.01, \\epsilon=0.05$ & 1.00 1.00 & 0.99 0.99 & 1.00 1.00 & 0.99 1.00 & 1.00 1.00 & 0.98 0.98 & 1.00 0.99 & 0.99 0.99 & 0.98 0.98 \\\\\n",
      "$h=0.8, \\theta=0.05, \\epsilon=0.01$ & 1.00 1.00 & 1.00 1.00 & 1.00 1.00 & 0.99 1.00 & 1.00 1.00 & 0.99 0.99 & 1.00 0.99 & 1.00 1.00 & 0.99 0.99 \\\\\n",
      "$h=0.8, \\theta=0.05, \\epsilon=0.05$ & 1.00 1.00 & 1.00 1.00 & 1.00 1.00 & 0.99 1.00 & 1.00 1.00 & 0.99 0.99 & 1.00 1.00 & 1.00 1.00 & 0.99 0.99 \\\\\n"
     ]
    }
   ],
   "source": [
    "import collections\n",
    "\n",
    "def get_dominant_cluster(d_clusters, start, stop):\n",
    "    counters: dict = collections.Counter(d_clusters[start:stop])\n",
    "    max_v = 0\n",
    "    max_k = 0\n",
    "    for k,v in counters.items():\n",
    "        if max_v < v:\n",
    "            max_v = v\n",
    "            max_k = k\n",
    "    return int(max_k)\n",
    "\n",
    "\n",
    "input_files = [f'{x}/clustering' for x in Path('.').iterdir() if str(x).startswith('h0')]\n",
    "print(input_files)\n",
    "input_files.sort()\n",
    "for input_file in input_files:\n",
    "    #print(f'Processing {input_file}')\n",
    "    if not os.path.exists(input_file):\n",
    "        # print(f'Warning: {input_file} does not exist')\n",
    "        continue\n",
    "    d_clusters = [int(v) for v in open(input_file).read().split(',')]\n",
    "    #print(d_clusters)\n",
    "    d_idx_to_idx = {}\n",
    "    detected_idx = []\n",
    "    d_clusters_idx = []\n",
    "    start = 0\n",
    "    #print(len(d_clusters))\n",
    "    for idx, cluster in enumerate(clusters):\n",
    "        d_idx = get_dominant_cluster(d_clusters, start, start+cluster)\n",
    "        if not d_idx in d_idx_to_idx:\n",
    "            d_idx_to_idx[d_idx] = idx\n",
    "        #print(f'Mapping [{start}:{start+cluster}] {d_idx} to {idx}')\n",
    "        detected_idx.append(d_idx_to_idx[d_idx])\n",
    "        start += cluster\n",
    "\n",
    "    canonical_clusters = [d_idx_to_idx[v] if v in d_idx_to_idx else v+100 for v in d_clusters]\n",
    "    counts = collections.Counter(canonical_clusters)\n",
    "    # precision & recall\n",
    "    start = 0\n",
    "    h = input_file[1:4]\n",
    "    t_idx = input_file.index('theta')\n",
    "    theta = input_file[t_idx + 5: input_file.index('_', t_idx)]\n",
    "    e_idx = input_file.index('epsilon')\n",
    "    eps = input_file[e_idx+len('epsilon'): input_file.index('/')]\n",
    "    print(f'$h={h}, \\\\theta={theta}, \\\\epsilon={eps}$', end = ' & ')\n",
    "    for idx, cluster in enumerate(clusters):\n",
    "        tp = canonical_clusters[start:start+cluster].count(idx)\n",
    "        print(f'{tp/counts[idx]:.2f} {tp/cluster:.2f}', end=' & ' if idx < len(clusters) - 1 else ' ')\n",
    "        start += cluster\n",
    "    print('\\\\\\\\')\n",
    "\n",
    "    #print(canonical_clusters)\n",
    "\n",
    "\n",
    "\n",
    "\n"
   ],
   "metadata": {
    "collapsed": false,
    "pycharm": {
     "name": "#%%\n"
    }
   }
  }
 ],
 "metadata": {
  "kernelspec": {
   "name": "pycharm-e1b30cee",
   "language": "python",
   "display_name": "PyCharm (secedo-experiments)"
  },
  "language_info": {
   "codemirror_mode": {
    "name": "ipython",
    "version": 2
   },
   "file_extension": ".py",
   "mimetype": "text/x-python",
   "name": "python",
   "nbconvert_exporter": "python",
   "pygments_lexer": "ipython2",
   "version": "2.7.6"
  }
 },
 "nbformat": 4,
 "nbformat_minor": 0
}